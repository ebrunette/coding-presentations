{
 "cells": [
  {
   "cell_type": "markdown",
   "id": "68891952",
   "metadata": {},
   "source": [
    "This code leverages data from this kaggle competition. <br>\n",
    "[Real Estate Price Predictions](https://www.kaggle.com/datasets/quantbruce/real-estate-price-prediction)"
   ]
  },
  {
   "cell_type": "markdown",
   "id": "a0ed6e2f",
   "metadata": {},
   "source": [
    "# Install dependencies as needed:\n",
    "# pip install kagglehub[pandas-datasets]\n",
    "import kagglehub\n",
    "from kagglehub import KaggleDatasetAdapter\n",
    "\n",
    "# Set the path to the file you'd like to load\n",
    "file_path = \"\"\n",
    "\n",
    "# Load the latest version\n",
    "df = kagglehub.load_dataset(\n",
    "  KaggleDatasetAdapter.PANDAS,\n",
    "  \"quantbruce/real-estate-price-prediction\",\n",
    "  file_path,\n",
    "  # Provide any additional arguments like \n",
    "  # sql_query or pandas_kwargs. See the \n",
    "  # documenation for more information:\n",
    "  # https://github.com/Kaggle/kagglehub/blob/main/README.md#kaggledatasetadapterpandas\n",
    ")\n",
    "\n",
    "print(\"First 5 records:\", df.head())"
   ]
  }
 ],
 "metadata": {
  "language_info": {
   "name": "python"
  }
 },
 "nbformat": 4,
 "nbformat_minor": 5
}
